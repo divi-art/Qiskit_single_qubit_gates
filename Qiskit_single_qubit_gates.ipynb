{
  "nbformat": 4,
  "nbformat_minor": 0,
  "metadata": {
    "colab": {
      "provenance": []
    },
    "kernelspec": {
      "name": "python3",
      "display_name": "Python 3"
    },
    "language_info": {
      "name": "python"
    }
  },
  "cells": [
    {
      "cell_type": "code",
      "source": [
        "!pip install qiskit qiskit-aer --upgrade\n",
        "!pip install qiskit qiskit-aer --quiet"
      ],
      "metadata": {
        "id": "Mx6284lurNt1",
        "colab": {
          "base_uri": "https://localhost:8080/"
        },
        "outputId": "f2f0e8e5-342c-460c-9150-5a6fa51ed0d5"
      },
      "execution_count": 31,
      "outputs": [
        {
          "output_type": "stream",
          "name": "stdout",
          "text": [
            "Requirement already satisfied: qiskit in /usr/local/lib/python3.12/dist-packages (2.2.1)\n",
            "Requirement already satisfied: qiskit-aer in /usr/local/lib/python3.12/dist-packages (0.17.2)\n",
            "Requirement already satisfied: rustworkx>=0.15.0 in /usr/local/lib/python3.12/dist-packages (from qiskit) (0.17.1)\n",
            "Requirement already satisfied: numpy<3,>=1.17 in /usr/local/lib/python3.12/dist-packages (from qiskit) (2.0.2)\n",
            "Requirement already satisfied: scipy>=1.5 in /usr/local/lib/python3.12/dist-packages (from qiskit) (1.16.2)\n",
            "Requirement already satisfied: dill>=0.3 in /usr/local/lib/python3.12/dist-packages (from qiskit) (0.3.8)\n",
            "Requirement already satisfied: stevedore>=3.0.0 in /usr/local/lib/python3.12/dist-packages (from qiskit) (5.5.0)\n",
            "Requirement already satisfied: typing-extensions in /usr/local/lib/python3.12/dist-packages (from qiskit) (4.15.0)\n",
            "Requirement already satisfied: psutil>=5 in /usr/local/lib/python3.12/dist-packages (from qiskit-aer) (5.9.5)\n",
            "Requirement already satisfied: python-dateutil>=2.8.0 in /usr/local/lib/python3.12/dist-packages (from qiskit-aer) (2.9.0.post0)\n",
            "Requirement already satisfied: six>=1.5 in /usr/local/lib/python3.12/dist-packages (from python-dateutil>=2.8.0->qiskit-aer) (1.17.0)\n"
          ]
        }
      ]
    },
    {
      "cell_type": "code",
      "execution_count": 32,
      "metadata": {
        "id": "VPOwLacGrCdU",
        "colab": {
          "base_uri": "https://localhost:8080/"
        },
        "outputId": "012bcf9d-852c-4ee0-a904-8047083c2a9a"
      },
      "outputs": [
        {
          "output_type": "stream",
          "name": "stdout",
          "text": [
            "\n",
            "Task1\n",
            "Quantum Circuit:\n",
            "        ┌───┐┌───┐┌───┐┌───┐┌─────────┐ ░ ┌─┐\n",
            "     q: ┤ H ├┤ X ├┤ S ├┤ T ├┤ Rz(0.5) ├─░─┤M├\n",
            "        └───┘└───┘└───┘└───┘└─────────┘ ░ └╥┘\n",
            "   c: 1/═══════════════════════════════════╬═\n",
            "                                           ║ \n",
            "meas: 1/═══════════════════════════════════╩═\n",
            "                                           0 \n",
            "\n",
            "Measurement Counts: {'0 0': 504, '1 0': 520}\n"
          ]
        }
      ],
      "source": [
        "print(\"\\nTask1\")\n",
        "\n",
        "from qiskit import QuantumCircuit, transpile\n",
        "from qiskit_aer import AerSimulator\n",
        "\n",
        "# Initialize simulator\n",
        "sim = AerSimulator()\n",
        "\n",
        "# Create a single-qubit circuit with one classical bit\n",
        "qc = QuantumCircuit(1, 1)\n",
        "\n",
        "# --- Apply sequence of single-qubit gates (swapped H and X) ---\n",
        "qc.h(0)        # Hadamard first\n",
        "qc.x(0)        # Pauli-X second\n",
        "qc.s(0)        # Phase gate (π/2)\n",
        "qc.t(0)        # T gate (π/4)\n",
        "qc.rz(0.5, 0)  # Z-axis rotation by 0.5 radians\n",
        "\n",
        "# Measure final state\n",
        "qc.measure_all()\n",
        "\n",
        "# Display circuit\n",
        "print(\"Quantum Circuit:\")\n",
        "print(qc.draw())\n",
        "\n",
        "# --- Run simulation ---\n",
        "compiled = transpile(qc, sim)\n",
        "result = sim.run(compiled, shots=1024).result()\n",
        "\n",
        "# --- Display results ---\n",
        "counts = result.get_counts()\n",
        "print(\"\\nMeasurement Counts:\", counts)\n"
      ]
    },
    {
      "cell_type": "code",
      "source": [
        "print(\"\\nTask2\")\n",
        "from qiskit import QuantumCircuit, transpile\n",
        "from qiskit_aer import AerSimulator\n",
        "import numpy as np  # for pi\n",
        "\n",
        "# Initialize simulator\n",
        "sim = AerSimulator()\n",
        "\n",
        "# Rotation angles to test\n",
        "angles = [np.pi/4, np.pi/2, np.pi]\n",
        "\n",
        "for theta in angles:\n",
        "    # Create circuit\n",
        "    qc = QuantumCircuit(1, 1)\n",
        "\n",
        "    # Apply gates (using H → X → S → T → Rz(theta))\n",
        "    qc.h(0)\n",
        "    qc.x(0)\n",
        "    qc.s(0)\n",
        "    qc.t(0)\n",
        "    qc.rz(theta, 0)\n",
        "\n",
        "    # Measure\n",
        "    qc.measure_all()\n",
        "\n",
        "    # Display circuit\n",
        "    print(f\"\\nQuantum Circuit with Rz({theta:.2f} rad):\")\n",
        "    print(qc.draw())\n",
        "\n",
        "    # Run simulation\n",
        "    compiled = transpile(qc, sim)\n",
        "    result = sim.run(compiled, shots=1024).result()\n",
        "    counts = result.get_counts()\n",
        "\n",
        "    # Show results\n",
        "    print(f\"Measurement Counts for θ = {theta:.2f} rad:\", counts)"
      ],
      "metadata": {
        "colab": {
          "base_uri": "https://localhost:8080/"
        },
        "id": "Eg6V1WK4yWpo",
        "outputId": "e5b077ac-c330-455a-9ed1-2f791c23031f"
      },
      "execution_count": 33,
      "outputs": [
        {
          "output_type": "stream",
          "name": "stdout",
          "text": [
            "\n",
            "Task2\n",
            "\n",
            "Quantum Circuit with Rz(0.79 rad):\n",
            "        ┌───┐┌───┐┌───┐┌───┐┌─────────┐ ░ ┌─┐\n",
            "     q: ┤ H ├┤ X ├┤ S ├┤ T ├┤ Rz(π/4) ├─░─┤M├\n",
            "        └───┘└───┘└───┘└───┘└─────────┘ ░ └╥┘\n",
            "   c: 1/═══════════════════════════════════╬═\n",
            "                                           ║ \n",
            "meas: 1/═══════════════════════════════════╩═\n",
            "                                           0 \n",
            "Measurement Counts for θ = 0.79 rad: {'0 0': 508, '1 0': 516}\n",
            "\n",
            "Quantum Circuit with Rz(1.57 rad):\n",
            "        ┌───┐┌───┐┌───┐┌───┐┌─────────┐ ░ ┌─┐\n",
            "     q: ┤ H ├┤ X ├┤ S ├┤ T ├┤ Rz(π/2) ├─░─┤M├\n",
            "        └───┘└───┘└───┘└───┘└─────────┘ ░ └╥┘\n",
            "   c: 1/═══════════════════════════════════╬═\n",
            "                                           ║ \n",
            "meas: 1/═══════════════════════════════════╩═\n",
            "                                           0 \n",
            "Measurement Counts for θ = 1.57 rad: {'0 0': 500, '1 0': 524}\n",
            "\n",
            "Quantum Circuit with Rz(3.14 rad):\n",
            "        ┌───┐┌───┐┌───┐┌───┐┌───────┐ ░ ┌─┐\n",
            "     q: ┤ H ├┤ X ├┤ S ├┤ T ├┤ Rz(π) ├─░─┤M├\n",
            "        └───┘└───┘└───┘└───┘└───────┘ ░ └╥┘\n",
            "   c: 1/═════════════════════════════════╬═\n",
            "                                         ║ \n",
            "meas: 1/═════════════════════════════════╩═\n",
            "                                         0 \n",
            "Measurement Counts for θ = 3.14 rad: {'0 0': 491, '1 0': 533}\n"
          ]
        }
      ]
    },
    {
      "cell_type": "code",
      "source": [
        "print(\"\\nTask3\")\n",
        "from qiskit import QuantumCircuit, transpile\n",
        "from qiskit_aer import AerSimulator\n",
        "\n",
        "# Initialize simulator\n",
        "sim = AerSimulator()\n",
        "\n",
        "# Create a single-qubit circuit\n",
        "qc = QuantumCircuit(1, 1)\n",
        "\n",
        "# --- Apply gates WITHOUT Hadamard ---\n",
        "qc.x(0)        # Pauli-X (flip qubit)\n",
        "# qc.h(0)      # Hadamard removed\n",
        "qc.s(0)        # Phase gate\n",
        "qc.t(0)        # T gate\n",
        "qc.rz(0.5, 0)  # Z-axis rotation by 0.5 radians\n",
        "\n",
        "# Measure\n",
        "qc.measure_all()\n",
        "\n",
        "# Display circuit\n",
        "print(\"Quantum Circuit WITHOUT Hadamard (Rz = 0.5):\")\n",
        "print(qc.draw())\n",
        "\n",
        "# Run simulation\n",
        "compiled = transpile(qc, sim)\n",
        "result = sim.run(compiled, shots=1024).result()\n",
        "counts = result.get_counts()\n",
        "\n",
        "# Display results\n",
        "print(\"\\nMeasurement Counts (Hadamard removed):\", counts)"
      ],
      "metadata": {
        "id": "XXSzfpG9q7hc",
        "colab": {
          "base_uri": "https://localhost:8080/"
        },
        "outputId": "e6c47617-45ce-4b73-aebc-9f839ca1a012"
      },
      "execution_count": 34,
      "outputs": [
        {
          "output_type": "stream",
          "name": "stdout",
          "text": [
            "\n",
            "Task3\n",
            "Quantum Circuit WITHOUT Hadamard (Rz = 0.5):\n",
            "        ┌───┐┌───┐┌───┐┌─────────┐ ░ ┌─┐\n",
            "     q: ┤ X ├┤ S ├┤ T ├┤ Rz(0.5) ├─░─┤M├\n",
            "        └───┘└───┘└───┘└─────────┘ ░ └╥┘\n",
            "   c: 1/══════════════════════════════╬═\n",
            "                                      ║ \n",
            "meas: 1/══════════════════════════════╩═\n",
            "                                      0 \n",
            "\n",
            "Measurement Counts (Hadamard removed): {'1 0': 1024}\n"
          ]
        }
      ]
    }
  ]
}